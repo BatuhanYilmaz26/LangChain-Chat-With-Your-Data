{
 "cells": [
  {
   "cell_type": "markdown",
   "metadata": {},
   "source": [
    "| Overview            | Components                           |\n",
    "| ----------------------------------------------- | ------------------------------------- |\n",
    "| ![Overview](images/overview.png) | ![Components](images/components.png) |\n"
   ]
  },
  {
   "cell_type": "markdown",
   "metadata": {},
   "source": [
    "## How to use LangChain to chat with your data?\n",
    "- We will first cover how to use **LangChain Document Loaders** to load data from a variety of exciting sources.\n",
    "- We will then touch on how to **split these documents into semantically meaningful chunks**. This pre-processing step may seem simple but has a lot of nuance.\n",
    "- Next, we'll give an overview of **semantic search**, a basic method for fetching relevant information given a user question. This is the easiest method to get started with but there are several cases where it fails.\n",
    "- We'll go over these cases and then we'll go over how to fix them.\n",
    "- We'll then show how to use those retrieved documents to enable an LLM to answer questions about a document but show that you're still missing one key piece in order to fully recreate that chatbot experience.\n",
    "- Finally, we'll cover that missing piece, **memory**, and show how to build a fully functioning chatbot through which you can chat with your data.\n",
    "\n",
    "![rag](images/rag.png)"
   ]
  }
 ],
 "metadata": {
  "language_info": {
   "name": "python"
  },
  "orig_nbformat": 4
 },
 "nbformat": 4,
 "nbformat_minor": 2
}
